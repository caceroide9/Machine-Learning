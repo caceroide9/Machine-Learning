{
  "nbformat": 4,
  "nbformat_minor": 0,
  "metadata": {
    "kernelspec": {
      "display_name": "Python 2",
      "language": "python",
      "name": "python2"
    },
    "language_info": {
      "codemirror_mode": {
        "name": "ipython",
        "version": 2
      },
      "file_extension": ".py",
      "mimetype": "text/x-python",
      "name": "python",
      "nbconvert_exporter": "python",
      "pygments_lexer": "ipython2",
      "version": "2.7.16"
    },
    "toc": {
      "base_numbering": 1,
      "nav_menu": {},
      "number_sections": true,
      "sideBar": true,
      "skip_h1_title": false,
      "title_cell": "Table of Contents",
      "title_sidebar": "Contents",
      "toc_cell": false,
      "toc_position": {},
      "toc_section_display": true,
      "toc_window_display": false
    },
    "varInspector": {
      "cols": {
        "lenName": 16,
        "lenType": 16,
        "lenVar": 40
      },
      "kernels_config": {
        "python": {
          "delete_cmd_postfix": "",
          "delete_cmd_prefix": "del ",
          "library": "var_list.py",
          "varRefreshCmd": "print(var_dic_list())"
        },
        "r": {
          "delete_cmd_postfix": ") ",
          "delete_cmd_prefix": "rm(",
          "library": "var_list.r",
          "varRefreshCmd": "cat(var_dic_list()) "
        }
      },
      "types_to_exclude": [
        "module",
        "function",
        "builtin_function_or_method",
        "instance",
        "_Feature"
      ],
      "window_display": false
    },
    "colab": {
      "name": "Tarea2 Mathias Cáceres.ipynb",
      "provenance": []
    }
  },
  "cells": [
    {
      "cell_type": "markdown",
      "metadata": {
        "id": "v4N-VC0uMefz"
      },
      "source": [
        "# Tarea 2 \n",
        "## Autor: Mathias Cáceres Bustamante \n",
        "###Asignatura: Mineria de datos\n",
        "\n"
      ]
    },
    {
      "cell_type": "markdown",
      "metadata": {
        "id": "v-yiSPcJMZfp"
      },
      "source": [
        "## Ejercicio 1"
      ]
    },
    {
      "cell_type": "markdown",
      "metadata": {
        "collapsed": true,
        "id": "p3aWI4P7MZfs"
      },
      "source": [
        "Escribir un programa que solicite un número y calcule el cuadrado de ese número.\n",
        "- Si el cuadrado es 100 o mayor, imprima el valor al cuadrado y la palabra 'grande'.\n",
        "- Si el cuadrado está entre 50 y 99, imprima el valor al cuadrado y la palabra 'medio'.\n",
        "- De lo contrario, simplemente imprima 'demasiado pequeño para molestarlo'."
      ]
    },
    {
      "cell_type": "code",
      "metadata": {
        "colab": {
          "base_uri": "https://localhost:8080/"
        },
        "id": "QAfaM1OjMa9A",
        "outputId": "53a6ec7d-0f93-4874-b1a2-95cf425f5f43"
      },
      "source": [
        "\n",
        "def cuadrado(x):\n",
        "  if(x*x>=100):\n",
        "    print(\"grande\")\n",
        "  elif(x*x>50 and x*x<99):\n",
        "    print(\"medio\")\n",
        "  else:\n",
        "    print(\"demasiado pequeño para molestarlo\")\n",
        "\n",
        "x=int(input(\"ingrese valor: \"))\n",
        "cuadrado(x)"
      ],
      "execution_count": null,
      "outputs": [
        {
          "output_type": "stream",
          "text": [
            "ingrese valor: 5\n",
            "demasiado pequeño para molestarlo\n"
          ],
          "name": "stdout"
        }
      ]
    },
    {
      "cell_type": "markdown",
      "metadata": {
        "id": "zE4Z1xzCMZfu"
      },
      "source": [
        "## Ejercicio 2"
      ]
    },
    {
      "cell_type": "markdown",
      "metadata": {
        "collapsed": true,
        "id": "3FZrt8Z9MZfv"
      },
      "source": [
        "A continuación se muestra el código que crea una lista de cuatro elementos, representados como diccionarios que especifican el color y tamaño.\n",
        "\n",
        "Añadir código para pedir un número, luego imprimir el color de todos elementos cuyo tamaño es mayor que ese número."
      ]
    },
    {
      "cell_type": "code",
      "metadata": {
        "id": "UM01KIRJMZfw"
      },
      "source": [
        "items = [{'color':'red', 'size':10}, {'color':'blue', 'size':3},\\\n",
        "         {'color':'green', 'size':15}, {'color':'yellow', 'size':6}]"
      ],
      "execution_count": null,
      "outputs": []
    },
    {
      "cell_type": "code",
      "metadata": {
        "colab": {
          "base_uri": "https://localhost:8080/"
        },
        "id": "Bn2sJZMROXDe",
        "outputId": "16254ce3-9d46-42d7-93b9-0e68d223c023"
      },
      "source": [
        "def colores(x):\n",
        "  for i in range(4):\n",
        "    if((items[i]['size'])>x):\n",
        "      print(items[i]['color'])\n",
        "  \n",
        "x=int(input(\"ingrese valor: \"))\n",
        "colores(x)"
      ],
      "execution_count": null,
      "outputs": [
        {
          "output_type": "stream",
          "text": [
            "ingrese valor: 8\n",
            "red\n",
            "green\n"
          ],
          "name": "stdout"
        }
      ]
    },
    {
      "cell_type": "markdown",
      "metadata": {
        "id": "CtwRHA-yMZfw"
      },
      "source": [
        "## Ejercicio 3"
      ]
    },
    {
      "cell_type": "markdown",
      "metadata": {
        "collapsed": true,
        "id": "Wk3i6HnoMZfx"
      },
      "source": [
        "Crear un bucle que solicite dos números, e imprima los colores de todos los elementos cuyo tamaño está entre los dos números, es decir, cuyo tamaño es mayor que el primer número e inferior al segundo número.\n",
        "\n",
        "Si el segundo número del usuario es igual o menor que el primer número, el programa debe imprimir 'Hecho' y detenerse."
      ]
    },
    {
      "cell_type": "code",
      "metadata": {
        "colab": {
          "base_uri": "https://localhost:8080/"
        },
        "id": "IcCs4nczd3WF",
        "outputId": "5536c600-8cb8-4e5b-d186-2bf4b06ce335"
      },
      "source": [
        "\n",
        "def comparacion(x,y):\n",
        "  if(x<y):\n",
        "    for i in range(4):\n",
        "      if( items[i]['size']>x and items[i]['size']<y ):\n",
        "        print(items[i]['color'])\n",
        "  else:\n",
        "    print(\"hecho\")\n",
        " \n",
        "\n",
        "x=int(input(\"ingrese valor: \"))\n",
        "y=int(input(\"ingrese valor: \"))\n",
        "comparacion(x,y)\n"
      ],
      "execution_count": null,
      "outputs": [
        {
          "output_type": "stream",
          "text": [
            "ingrese valor: 12\n",
            "ingrese valor: 12\n",
            "hecho\n"
          ],
          "name": "stdout"
        }
      ]
    },
    {
      "cell_type": "markdown",
      "metadata": {
        "id": "3FOKddIHMZfx"
      },
      "source": [
        "## Ejercicio 4 - [usar Dataframe]"
      ]
    },
    {
      "cell_type": "markdown",
      "metadata": {
        "collapsed": true,
        "id": "Aoe210vSMZfy"
      },
      "source": [
        "### Leer el archivo Countries.csv en un dataframe."
      ]
    },
    {
      "cell_type": "markdown",
      "metadata": {
        "id": "Wab9TxMEMZfy"
      },
      "source": [
        "### Imprimir una lista de los países que no tienen linea costerá y no estan en la EU, junto con sus puntos más altos, ordene de menor a mayor sus puntos más altos."
      ]
    },
    {
      "cell_type": "code",
      "metadata": {
        "colab": {
          "base_uri": "https://localhost:8080/"
        },
        "id": "mxGI2jX3kETt",
        "outputId": "8c378361-80c7-489b-e5ff-7faf96c5a0c0"
      },
      "source": [
        "import pandas as pd\n",
        "from google.colab import drive\n",
        "drive.mount('/content/drive/')\n"
      ],
      "execution_count": null,
      "outputs": [
        {
          "output_type": "stream",
          "text": [
            "Mounted at /content/drive/\n"
          ],
          "name": "stdout"
        }
      ]
    },
    {
      "cell_type": "code",
      "metadata": {
        "id": "yQemrcvFl6DG"
      },
      "source": [
        "ruta = '/content/drive/My Drive/Mineria'"
      ],
      "execution_count": null,
      "outputs": []
    },
    {
      "cell_type": "code",
      "metadata": {
        "colab": {
          "base_uri": "https://localhost:8080/",
          "height": 225
        },
        "id": "meo-99QWnRh2",
        "outputId": "ed52edf8-d0dc-40a8-8645-9301f174e168"
      },
      "source": [
        "f = open('%s/Countries.csv'%ruta,'rU')\n",
        "countries = pd.read_csv(f)\n",
        "countries.head()\n",
        "countries[(countries.coastline=='yes') & (countries.EU=='no')][['country','coastline','highest','EU']]\n"
      ],
      "execution_count": null,
      "outputs": [
        {
          "output_type": "execute_result",
          "data": {
            "text/plain": [
              "       country coastline  highest  EU\n",
              "0      Albania       yes     2764  no\n",
              "17     Iceland       yes     2110  no\n",
              "27  Montenegro       yes     2534  no\n",
              "29      Norway       yes     2469  no\n",
              "39      Turkey       yes     5137  no\n",
              "40     Ukraine       yes     2061  no"
            ],
            "text/html": [
              "<div>\n",
              "<style scoped>\n",
              "    .dataframe tbody tr th:only-of-type {\n",
              "        vertical-align: middle;\n",
              "    }\n",
              "\n",
              "    .dataframe tbody tr th {\n",
              "        vertical-align: top;\n",
              "    }\n",
              "\n",
              "    .dataframe thead th {\n",
              "        text-align: right;\n",
              "    }\n",
              "</style>\n",
              "<table border=\"1\" class=\"dataframe\">\n",
              "  <thead>\n",
              "    <tr style=\"text-align: right;\">\n",
              "      <th></th>\n",
              "      <th>country</th>\n",
              "      <th>coastline</th>\n",
              "      <th>highest</th>\n",
              "      <th>EU</th>\n",
              "    </tr>\n",
              "  </thead>\n",
              "  <tbody>\n",
              "    <tr>\n",
              "      <th>0</th>\n",
              "      <td>Albania</td>\n",
              "      <td>yes</td>\n",
              "      <td>2764</td>\n",
              "      <td>no</td>\n",
              "    </tr>\n",
              "    <tr>\n",
              "      <th>17</th>\n",
              "      <td>Iceland</td>\n",
              "      <td>yes</td>\n",
              "      <td>2110</td>\n",
              "      <td>no</td>\n",
              "    </tr>\n",
              "    <tr>\n",
              "      <th>27</th>\n",
              "      <td>Montenegro</td>\n",
              "      <td>yes</td>\n",
              "      <td>2534</td>\n",
              "      <td>no</td>\n",
              "    </tr>\n",
              "    <tr>\n",
              "      <th>29</th>\n",
              "      <td>Norway</td>\n",
              "      <td>yes</td>\n",
              "      <td>2469</td>\n",
              "      <td>no</td>\n",
              "    </tr>\n",
              "    <tr>\n",
              "      <th>39</th>\n",
              "      <td>Turkey</td>\n",
              "      <td>yes</td>\n",
              "      <td>5137</td>\n",
              "      <td>no</td>\n",
              "    </tr>\n",
              "    <tr>\n",
              "      <th>40</th>\n",
              "      <td>Ukraine</td>\n",
              "      <td>yes</td>\n",
              "      <td>2061</td>\n",
              "      <td>no</td>\n",
              "    </tr>\n",
              "  </tbody>\n",
              "</table>\n",
              "</div>"
            ]
          },
          "metadata": {
            "tags": []
          },
          "execution_count": 253
        }
      ]
    },
    {
      "cell_type": "markdown",
      "metadata": {
        "id": "scm_XXRHMZfz"
      },
      "source": [
        "## Ejercicio 5 - [usar Dataframe]"
      ]
    },
    {
      "cell_type": "markdown",
      "metadata": {
        "collapsed": true,
        "id": "wPlQdix3MZfz"
      },
      "source": [
        "### Encontrar el punto medio, máximo y mínimo más alto [highest] de los países en la UE y no en la UE."
      ]
    },
    {
      "cell_type": "markdown",
      "metadata": {
        "id": "G4ZNXFW3MZf0"
      },
      "source": [
        "### Encontrar el punto medio, máximo y mínimo más alto [higest] de los países con y sin línea costera."
      ]
    },
    {
      "cell_type": "code",
      "metadata": {
        "colab": {
          "base_uri": "https://localhost:8080/"
        },
        "id": "qBots7MOrX-B",
        "outputId": "e6bca9e9-136b-4d45-a45c-5963895e906c"
      },
      "source": [
        "f = open('%s/Countries.csv'%ruta,'rU')\n",
        "countries = pd.read_csv(f)\n",
        "countries.head()\n",
        "print(\"pertenecientes a la union europea\")\n",
        "print(\"maximo highest \",countries['highest'].loc[countries.EU == 'yes'].max())\n",
        "print(\"minimo highest \",countries['highest'].loc[countries.EU == 'yes'].min())\n",
        "print(\"punto medio highest\",countries['highest'].loc[countries.EU == 'yes'].mean())\n",
        "\n",
        "print(\" no pertenecientes a la union europea\")\n",
        "print(\"maximo highest \",countries['highest'].loc[countries.EU == 'no'].max())\n",
        "print(\"minimo highest \",countries['highest'].loc[countries.EU == 'no'].min())\n",
        "print(\"punto medio highest\",countries['highest'].loc[countries.EU == 'no'].mean())\n",
        "\n",
        "\n"
      ],
      "execution_count": null,
      "outputs": [
        {
          "output_type": "stream",
          "text": [
            "pertenecientes a la union europea\n",
            "('maximo highest ', 4810)\n",
            "('minimo highest ', 171)\n",
            "('punto medio highest', 1968.148148148148)\n",
            " no pertenecientes a la union europea\n",
            "('maximo highest ', 5137)\n",
            "('minimo highest ', 345)\n",
            "('punto medio highest', 2533.3333333333335)\n"
          ],
          "name": "stdout"
        }
      ]
    },
    {
      "cell_type": "markdown",
      "metadata": {
        "id": "Rv5rijvhMZf0"
      },
      "source": [
        "## Ejercicio 6 - [usar Dataframe]"
      ]
    },
    {
      "cell_type": "markdown",
      "metadata": {
        "id": "0XNzlXV5MZf0"
      },
      "source": [
        "### Leer los jugadores y equipos en dataframes [Players.csv] y [Teams.csv]."
      ]
    },
    {
      "cell_type": "code",
      "metadata": {
        "colab": {
          "base_uri": "https://localhost:8080/",
          "height": 195
        },
        "id": "TuiuMMPIyG6W",
        "outputId": "7f68620a-d4ea-4168-cd39-70b26f3d99f3"
      },
      "source": [
        "f = open('%s/Players.csv'%ruta,'rU')\n",
        "players = pd.read_csv(f)\n",
        "players.head()"
      ],
      "execution_count": null,
      "outputs": [
        {
          "output_type": "execute_result",
          "data": {
            "text/plain": [
              "     surname     team    position  minutes  shots  passes  tackles  saves\n",
              "0     Abdoun  Algeria  midfielder       16      0       6        0      0\n",
              "1    Belhadj  Algeria    defender      270      1     146        8      0\n",
              "2  Boudebouz  Algeria  midfielder       74      3      28        1      0\n",
              "3  Bougherra  Algeria    defender      270      1      89       11      0\n",
              "4   Chaouchi  Algeria  goalkeeper       90      0      17        0      2"
            ],
            "text/html": [
              "<div>\n",
              "<style scoped>\n",
              "    .dataframe tbody tr th:only-of-type {\n",
              "        vertical-align: middle;\n",
              "    }\n",
              "\n",
              "    .dataframe tbody tr th {\n",
              "        vertical-align: top;\n",
              "    }\n",
              "\n",
              "    .dataframe thead th {\n",
              "        text-align: right;\n",
              "    }\n",
              "</style>\n",
              "<table border=\"1\" class=\"dataframe\">\n",
              "  <thead>\n",
              "    <tr style=\"text-align: right;\">\n",
              "      <th></th>\n",
              "      <th>surname</th>\n",
              "      <th>team</th>\n",
              "      <th>position</th>\n",
              "      <th>minutes</th>\n",
              "      <th>shots</th>\n",
              "      <th>passes</th>\n",
              "      <th>tackles</th>\n",
              "      <th>saves</th>\n",
              "    </tr>\n",
              "  </thead>\n",
              "  <tbody>\n",
              "    <tr>\n",
              "      <th>0</th>\n",
              "      <td>Abdoun</td>\n",
              "      <td>Algeria</td>\n",
              "      <td>midfielder</td>\n",
              "      <td>16</td>\n",
              "      <td>0</td>\n",
              "      <td>6</td>\n",
              "      <td>0</td>\n",
              "      <td>0</td>\n",
              "    </tr>\n",
              "    <tr>\n",
              "      <th>1</th>\n",
              "      <td>Belhadj</td>\n",
              "      <td>Algeria</td>\n",
              "      <td>defender</td>\n",
              "      <td>270</td>\n",
              "      <td>1</td>\n",
              "      <td>146</td>\n",
              "      <td>8</td>\n",
              "      <td>0</td>\n",
              "    </tr>\n",
              "    <tr>\n",
              "      <th>2</th>\n",
              "      <td>Boudebouz</td>\n",
              "      <td>Algeria</td>\n",
              "      <td>midfielder</td>\n",
              "      <td>74</td>\n",
              "      <td>3</td>\n",
              "      <td>28</td>\n",
              "      <td>1</td>\n",
              "      <td>0</td>\n",
              "    </tr>\n",
              "    <tr>\n",
              "      <th>3</th>\n",
              "      <td>Bougherra</td>\n",
              "      <td>Algeria</td>\n",
              "      <td>defender</td>\n",
              "      <td>270</td>\n",
              "      <td>1</td>\n",
              "      <td>89</td>\n",
              "      <td>11</td>\n",
              "      <td>0</td>\n",
              "    </tr>\n",
              "    <tr>\n",
              "      <th>4</th>\n",
              "      <td>Chaouchi</td>\n",
              "      <td>Algeria</td>\n",
              "      <td>goalkeeper</td>\n",
              "      <td>90</td>\n",
              "      <td>0</td>\n",
              "      <td>17</td>\n",
              "      <td>0</td>\n",
              "      <td>2</td>\n",
              "    </tr>\n",
              "  </tbody>\n",
              "</table>\n",
              "</div>"
            ]
          },
          "metadata": {
            "tags": []
          },
          "execution_count": 242
        }
      ]
    },
    {
      "cell_type": "code",
      "metadata": {
        "colab": {
          "base_uri": "https://localhost:8080/",
          "height": 195
        },
        "id": "j3fdL98syXad",
        "outputId": "9c4363a5-434c-418d-d88c-84461fd96bc3"
      },
      "source": [
        "f = open('%s/Teams.csv'%ruta,'rU')\n",
        "teams= pd.read_csv(f)\n",
        "teams.head()"
      ],
      "execution_count": null,
      "outputs": [
        {
          "output_type": "execute_result",
          "data": {
            "text/plain": [
              "          team  ranking  games  wins  draws  losses  goalsFor  goalsAgainst  \\\n",
              "0       Brazil        1      5     3      1       1         9             4   \n",
              "1        Spain        2      6     5      0       1         7             2   \n",
              "2     Portugal        3      4     1      2       1         7             1   \n",
              "3  Netherlands        4      6     6      0       0        12             5   \n",
              "4        Italy        5      3     0      2       1         4             5   \n",
              "\n",
              "   yellowCards  redCards  \n",
              "0            7         2  \n",
              "1            3         0  \n",
              "2            8         1  \n",
              "3           15         0  \n",
              "4            5         0  "
            ],
            "text/html": [
              "<div>\n",
              "<style scoped>\n",
              "    .dataframe tbody tr th:only-of-type {\n",
              "        vertical-align: middle;\n",
              "    }\n",
              "\n",
              "    .dataframe tbody tr th {\n",
              "        vertical-align: top;\n",
              "    }\n",
              "\n",
              "    .dataframe thead th {\n",
              "        text-align: right;\n",
              "    }\n",
              "</style>\n",
              "<table border=\"1\" class=\"dataframe\">\n",
              "  <thead>\n",
              "    <tr style=\"text-align: right;\">\n",
              "      <th></th>\n",
              "      <th>team</th>\n",
              "      <th>ranking</th>\n",
              "      <th>games</th>\n",
              "      <th>wins</th>\n",
              "      <th>draws</th>\n",
              "      <th>losses</th>\n",
              "      <th>goalsFor</th>\n",
              "      <th>goalsAgainst</th>\n",
              "      <th>yellowCards</th>\n",
              "      <th>redCards</th>\n",
              "    </tr>\n",
              "  </thead>\n",
              "  <tbody>\n",
              "    <tr>\n",
              "      <th>0</th>\n",
              "      <td>Brazil</td>\n",
              "      <td>1</td>\n",
              "      <td>5</td>\n",
              "      <td>3</td>\n",
              "      <td>1</td>\n",
              "      <td>1</td>\n",
              "      <td>9</td>\n",
              "      <td>4</td>\n",
              "      <td>7</td>\n",
              "      <td>2</td>\n",
              "    </tr>\n",
              "    <tr>\n",
              "      <th>1</th>\n",
              "      <td>Spain</td>\n",
              "      <td>2</td>\n",
              "      <td>6</td>\n",
              "      <td>5</td>\n",
              "      <td>0</td>\n",
              "      <td>1</td>\n",
              "      <td>7</td>\n",
              "      <td>2</td>\n",
              "      <td>3</td>\n",
              "      <td>0</td>\n",
              "    </tr>\n",
              "    <tr>\n",
              "      <th>2</th>\n",
              "      <td>Portugal</td>\n",
              "      <td>3</td>\n",
              "      <td>4</td>\n",
              "      <td>1</td>\n",
              "      <td>2</td>\n",
              "      <td>1</td>\n",
              "      <td>7</td>\n",
              "      <td>1</td>\n",
              "      <td>8</td>\n",
              "      <td>1</td>\n",
              "    </tr>\n",
              "    <tr>\n",
              "      <th>3</th>\n",
              "      <td>Netherlands</td>\n",
              "      <td>4</td>\n",
              "      <td>6</td>\n",
              "      <td>6</td>\n",
              "      <td>0</td>\n",
              "      <td>0</td>\n",
              "      <td>12</td>\n",
              "      <td>5</td>\n",
              "      <td>15</td>\n",
              "      <td>0</td>\n",
              "    </tr>\n",
              "    <tr>\n",
              "      <th>4</th>\n",
              "      <td>Italy</td>\n",
              "      <td>5</td>\n",
              "      <td>3</td>\n",
              "      <td>0</td>\n",
              "      <td>2</td>\n",
              "      <td>1</td>\n",
              "      <td>4</td>\n",
              "      <td>5</td>\n",
              "      <td>5</td>\n",
              "      <td>0</td>\n",
              "    </tr>\n",
              "  </tbody>\n",
              "</table>\n",
              "</div>"
            ]
          },
          "metadata": {
            "tags": []
          },
          "execution_count": 244
        }
      ]
    },
    {
      "cell_type": "markdown",
      "metadata": {
        "id": "onYGMPaqMZf1"
      },
      "source": [
        "### Qué jugador en un equipo con \"ou\" en el nombre, jugó mas de 190 minutos e hizo más de 100 pases? Imprima el apellido del jugador."
      ]
    },
    {
      "cell_type": "code",
      "metadata": {
        "colab": {
          "base_uri": "https://localhost:8080/"
        },
        "id": "IBzc1hNny16E",
        "outputId": "12df7839-646e-4c8a-ad27-33ec19e76315"
      },
      "source": [
        "players['surname'].loc[(players.team.str.contains('ou')) & (players.minutes > 190) & (players.passes > 100)]"
      ],
      "execution_count": null,
      "outputs": [
        {
          "output_type": "execute_result",
          "data": {
            "text/plain": [
              "487          Masilela\n",
              "488            Modise\n",
              "496           Pienaar\n",
              "499        Tshabalala\n",
              "500         Cha Du-Ri\n",
              "501    Cho Yong-Hyung\n",
              "503      Ki Sung-Yong\n",
              "506      Kim Jung-Woo\n",
              "508    Lee Chung-Yong\n",
              "510      Lee Jung-Soo\n",
              "512     Lee Young-Pyo\n",
              "515      Park Ji-Sung\n",
              "Name: surname, dtype: object"
            ]
          },
          "metadata": {
            "tags": []
          },
          "execution_count": 254
        }
      ]
    },
    {
      "cell_type": "markdown",
      "metadata": {
        "id": "viWcV32_MZf1"
      },
      "source": [
        "### ¿Cuál es el promedio, máximo y mínimo de pases de los defensas y delanteros?"
      ]
    },
    {
      "cell_type": "code",
      "metadata": {
        "colab": {
          "base_uri": "https://localhost:8080/"
        },
        "id": "tT88qIeG0JWG",
        "outputId": "b885f219-4915-47e3-b3ea-38307016bf4a"
      },
      "source": [
        "print(\"ESTADISTICAS DEFENSAS\")\n",
        "print(\"Pases minimo de defensa: \", players['passes'].loc[players.position == 'defender'].min())\n",
        "print(\"Pases maximo de defensa: \", players['passes'].loc[players.position == 'defender'].max())\n",
        "print(\"Promedio de pases de defensas: \", players['passes'].loc[players.position == 'defender'].mean())\n",
        "print(\"ESTADISTICAS DELANTEROS\")\n",
        "print(\"Pases minimo de delantero: \",  players['passes'].loc[players.position == 'fordward'].min())\n",
        "print(\"Pases maximo de delantero: \", players['passes'].loc[players.position == 'fordward'].max())\n",
        "print(\"Promedio de pases de delanteros: \", players['passes'].loc[players.position == 'fordward'].mean())"
      ],
      "execution_count": null,
      "outputs": [
        {
          "output_type": "stream",
          "text": [
            "ESTADISTICAS DEFENSAS\n",
            "('Pases minimo de defensa: ', 0)\n",
            "('Pases maximo de defensa: ', 402)\n",
            "('Promedio de pases de defensas: ', 102.6436170212766)\n",
            "ESTADISTICAS DELANTEROS\n",
            "('Pases minimo de delantero: ', nan)\n",
            "('Pases maximo de delantero: ', nan)\n",
            "('Promedio de pases de delanteros: ', nan)\n"
          ],
          "name": "stdout"
        }
      ]
    },
    {
      "cell_type": "markdown",
      "metadata": {
        "id": "XOYTKVvAMZf1"
      },
      "source": [
        "### ¿Qué equipo tiene el mayor ratio de 'goalsFor' y 'goalsAgainst'? Imprimir sólo el nombre del equipo."
      ]
    },
    {
      "cell_type": "code",
      "metadata": {
        "colab": {
          "base_uri": "https://localhost:8080/"
        },
        "id": "5HQr_TlB0ybs",
        "outputId": "8a9a030d-6d17-4667-f872-41419f4045b2"
      },
      "source": [
        "print(\"Nombre del equipo con mayor ratio goalsFor: \",teams[teams.goalsFor == teams['goalsFor'].max()]['team'].iloc[0])\n",
        "print(\"Nombre del equipo con mayor ratio goalsAgainst: \",teams[teams.goalsAgainst == teams['goalsAgainst'].max()]['team'].iloc[0])"
      ],
      "execution_count": null,
      "outputs": [
        {
          "output_type": "stream",
          "text": [
            "('Nombre del equipo con mayor ratio goalsFor: ', 'Germany')\n",
            "('Nombre del equipo con mayor ratio goalsAgainst: ', 'North Korea')\n"
          ],
          "name": "stdout"
        }
      ]
    },
    {
      "cell_type": "markdown",
      "metadata": {
        "id": "F1AAW3O9MZf2"
      },
      "source": [
        "### ¿Cuántos jugadores que juegan en un equipo con ranking <5 jugaron más de 400 minutos?\n"
      ]
    },
    {
      "cell_type": "code",
      "metadata": {
        "colab": {
          "base_uri": "https://localhost:8080/"
        },
        "id": "C6J54gp61C9z",
        "outputId": "ffa67e5a-e477-4be9-edf7-cbde78c94e5c"
      },
      "source": [
        "player_rank_team = players.merge(teams, on='team')\n",
        "num_players = len((player_rank_team[(player_rank_team.ranking < 5) & (player_rank_team.minutes > 400)]).index)\n",
        "print(num_players, 'Jugadores')"
      ],
      "execution_count": null,
      "outputs": [
        {
          "output_type": "stream",
          "text": [
            "(26, 'Jugadores')\n"
          ],
          "name": "stdout"
        }
      ]
    },
    {
      "cell_type": "markdown",
      "metadata": {
        "id": "35crBgMkMZf2"
      },
      "source": [
        "### Calcule por cada equipo la diferencia entre el jugador que da menos pases con el que da más pases. (use función groupby, agg con función lambda)"
      ]
    },
    {
      "cell_type": "code",
      "metadata": {
        "colab": {
          "base_uri": "https://localhost:8080/",
          "height": 1000
        },
        "id": "sFTEhRvS1He7",
        "outputId": "79daf97b-137d-4216-908a-fb0277593896"
      },
      "source": [
        "def diferencia(row):\n",
        "  return max(row)-min(row)\n",
        "\n",
        "c=players.groupby(['team']).agg({'passes': lambda x: diferencia(x)})\n",
        "c"
      ],
      "execution_count": null,
      "outputs": [
        {
          "output_type": "execute_result",
          "data": {
            "text/plain": [
              "              passes\n",
              "team                \n",
              "Algeria          157\n",
              "Argentina        313\n",
              "Australia        146\n",
              "Brazil           298\n",
              "Cameroon         161\n",
              "Chile            180\n",
              "Denmark          174\n",
              "England          225\n",
              "France           118\n",
              "Germany          418\n",
              "Ghana            303\n",
              "Greece           149\n",
              "Honduras          85\n",
              "Italy            200\n",
              "Ivory Coast      195\n",
              "Japan            147\n",
              "Mexico           245\n",
              "Netherlands      295\n",
              "New Zealand      119\n",
              "Nigeria           95\n",
              "North Korea      117\n",
              "Paraguay         211\n",
              "Portugal         166\n",
              "Serbia           162\n",
              "Slovakia         202\n",
              "Slovenia         159\n",
              "South Africa     130\n",
              "South Korea      184\n",
              "Spain            562\n",
              "Switzerland      138\n",
              "USA              208\n",
              "Uruguay          251"
            ],
            "text/html": [
              "<div>\n",
              "<style scoped>\n",
              "    .dataframe tbody tr th:only-of-type {\n",
              "        vertical-align: middle;\n",
              "    }\n",
              "\n",
              "    .dataframe tbody tr th {\n",
              "        vertical-align: top;\n",
              "    }\n",
              "\n",
              "    .dataframe thead th {\n",
              "        text-align: right;\n",
              "    }\n",
              "</style>\n",
              "<table border=\"1\" class=\"dataframe\">\n",
              "  <thead>\n",
              "    <tr style=\"text-align: right;\">\n",
              "      <th></th>\n",
              "      <th>passes</th>\n",
              "    </tr>\n",
              "    <tr>\n",
              "      <th>team</th>\n",
              "      <th></th>\n",
              "    </tr>\n",
              "  </thead>\n",
              "  <tbody>\n",
              "    <tr>\n",
              "      <th>Algeria</th>\n",
              "      <td>157</td>\n",
              "    </tr>\n",
              "    <tr>\n",
              "      <th>Argentina</th>\n",
              "      <td>313</td>\n",
              "    </tr>\n",
              "    <tr>\n",
              "      <th>Australia</th>\n",
              "      <td>146</td>\n",
              "    </tr>\n",
              "    <tr>\n",
              "      <th>Brazil</th>\n",
              "      <td>298</td>\n",
              "    </tr>\n",
              "    <tr>\n",
              "      <th>Cameroon</th>\n",
              "      <td>161</td>\n",
              "    </tr>\n",
              "    <tr>\n",
              "      <th>Chile</th>\n",
              "      <td>180</td>\n",
              "    </tr>\n",
              "    <tr>\n",
              "      <th>Denmark</th>\n",
              "      <td>174</td>\n",
              "    </tr>\n",
              "    <tr>\n",
              "      <th>England</th>\n",
              "      <td>225</td>\n",
              "    </tr>\n",
              "    <tr>\n",
              "      <th>France</th>\n",
              "      <td>118</td>\n",
              "    </tr>\n",
              "    <tr>\n",
              "      <th>Germany</th>\n",
              "      <td>418</td>\n",
              "    </tr>\n",
              "    <tr>\n",
              "      <th>Ghana</th>\n",
              "      <td>303</td>\n",
              "    </tr>\n",
              "    <tr>\n",
              "      <th>Greece</th>\n",
              "      <td>149</td>\n",
              "    </tr>\n",
              "    <tr>\n",
              "      <th>Honduras</th>\n",
              "      <td>85</td>\n",
              "    </tr>\n",
              "    <tr>\n",
              "      <th>Italy</th>\n",
              "      <td>200</td>\n",
              "    </tr>\n",
              "    <tr>\n",
              "      <th>Ivory Coast</th>\n",
              "      <td>195</td>\n",
              "    </tr>\n",
              "    <tr>\n",
              "      <th>Japan</th>\n",
              "      <td>147</td>\n",
              "    </tr>\n",
              "    <tr>\n",
              "      <th>Mexico</th>\n",
              "      <td>245</td>\n",
              "    </tr>\n",
              "    <tr>\n",
              "      <th>Netherlands</th>\n",
              "      <td>295</td>\n",
              "    </tr>\n",
              "    <tr>\n",
              "      <th>New Zealand</th>\n",
              "      <td>119</td>\n",
              "    </tr>\n",
              "    <tr>\n",
              "      <th>Nigeria</th>\n",
              "      <td>95</td>\n",
              "    </tr>\n",
              "    <tr>\n",
              "      <th>North Korea</th>\n",
              "      <td>117</td>\n",
              "    </tr>\n",
              "    <tr>\n",
              "      <th>Paraguay</th>\n",
              "      <td>211</td>\n",
              "    </tr>\n",
              "    <tr>\n",
              "      <th>Portugal</th>\n",
              "      <td>166</td>\n",
              "    </tr>\n",
              "    <tr>\n",
              "      <th>Serbia</th>\n",
              "      <td>162</td>\n",
              "    </tr>\n",
              "    <tr>\n",
              "      <th>Slovakia</th>\n",
              "      <td>202</td>\n",
              "    </tr>\n",
              "    <tr>\n",
              "      <th>Slovenia</th>\n",
              "      <td>159</td>\n",
              "    </tr>\n",
              "    <tr>\n",
              "      <th>South Africa</th>\n",
              "      <td>130</td>\n",
              "    </tr>\n",
              "    <tr>\n",
              "      <th>South Korea</th>\n",
              "      <td>184</td>\n",
              "    </tr>\n",
              "    <tr>\n",
              "      <th>Spain</th>\n",
              "      <td>562</td>\n",
              "    </tr>\n",
              "    <tr>\n",
              "      <th>Switzerland</th>\n",
              "      <td>138</td>\n",
              "    </tr>\n",
              "    <tr>\n",
              "      <th>USA</th>\n",
              "      <td>208</td>\n",
              "    </tr>\n",
              "    <tr>\n",
              "      <th>Uruguay</th>\n",
              "      <td>251</td>\n",
              "    </tr>\n",
              "  </tbody>\n",
              "</table>\n",
              "</div>"
            ]
          },
          "metadata": {
            "tags": []
          },
          "execution_count": 261
        }
      ]
    },
    {
      "cell_type": "markdown",
      "metadata": {
        "id": "MQbtzBp5MZf3"
      },
      "source": [
        "## Ejercicio 7  - [usar Dataframe]"
      ]
    },
    {
      "cell_type": "markdown",
      "metadata": {
        "collapsed": true,
        "id": "LQN9O15pMZf3"
      },
      "source": [
        "Escribir un bucle que interactivamente le pide al usuario que introduzca un nombre de equipo.\n",
        "- Si el equipo existe, liste todos los jugadores de ese equipo (con toda su información), ordenados por minutos descendentes.\n",
        "- Si el equipo no existe, imprima \"Este equipo no clasifico al mundial\".\n",
        "- Si se ingresa 'salir', termine el loop."
      ]
    },
    {
      "cell_type": "code",
      "metadata": {
        "colab": {
          "base_uri": "https://localhost:8080/"
        },
        "id": "2miqBSd8MZf3",
        "outputId": "b01adfa2-2879-4ad9-eeda-edb4d192741d"
      },
      "source": [
        "i = 0\n",
        "b= len(teams.index)\n",
        "while (i==0):\n",
        "  nombre=input(\"ingrese el nombre del equipo: Ej='Chile' \")\n",
        "  if (nombre.title() == 'Salir'):\n",
        "    print(\"hasta luego\")\n",
        "    break\n",
        "  for a in range (0, b, 1):\n",
        "    if(nombre.title()== teams.team.iloc[a] or nombre.upper()== teams.team.iloc[a]):\n",
        "      print(players[players.team == teams.team.iloc[a]].sort_values(by = 'minutes', ascending=False), \"\\n\")\n",
        "      break\n",
        "    elif(a==b-1 and teams.team.iloc[b-1]!= nombre.title()):\n",
        "      print(\"Este equipo no clasifico al mundial \\n\")"
      ],
      "execution_count": null,
      "outputs": [
        {
          "output_type": "stream",
          "text": [
            "ingrese el nombre del equipo: Ej='Chile' 'Chile'\n",
            "(        surname   team    position  minutes  shots  passes  tackles  saves\n",
            "96   Beausejour  Chile  midfielder      360      2     100        7      0\n",
            "97        Bravo  Chile  goalkeeper      360      0      58        0      4\n",
            "112     Sanchez  Chile     forward      335      7     113       13      0\n",
            "104        Isla  Chile    defender      332      1     123       10      0\n",
            "105        Jara  Chile    defender      308      1     187        8      0\n",
            "115       Vidal  Chile    defender      306      6     178       17      0\n",
            "110       Ponce  Chile    defender      270      2     113        4      0\n",
            "98      Carmona  Chile  midfielder      270      1     175        9      0\n",
            "106       Medel  Chile    defender      270      1     123        7      0\n",
            "114    Valdivia  Chile     forward      222      3      91        3      0\n",
            "101   Fernandez  Chile  midfielder      155      1      72        2      0\n",
            "103    Gonzalez  Chile  midfielder      138     10      41        6      0\n",
            "111       Suazo  Chile     forward      135      4      39        1      0\n",
            "107      Millar  Chile  midfielder      125      1      80        3      0\n",
            "102     Fuentes  Chile    defender       90      0      27        3      0\n",
            "109     Paredes  Chile     forward       70      3      11        5      0\n",
            "99    Contreras  Chile    defender       54      0      17        1      0\n",
            "113       Tello  Chile  midfielder       45      0      29        1      0\n",
            "100     Estrada  Chile  midfielder       37      1      16        2      0\n",
            "108    Orellana  Chile     forward       25      1       7        0      0, '\\n')\n"
          ],
          "name": "stdout"
        }
      ]
    }
  ]
}