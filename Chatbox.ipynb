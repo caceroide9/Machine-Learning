{
  "nbformat": 4,
  "nbformat_minor": 0,
  "metadata": {
    "colab": {
      "name": "Chatbox",
      "provenance": [],
      "collapsed_sections": []
    },
    "kernelspec": {
      "name": "python3",
      "display_name": "Python 3"
    },
    "language_info": {
      "name": "python"
    }
  },
  "cells": [
    {
      "cell_type": "code",
      "metadata": {
        "id": "Ppt4A5Y5nBIL"
      },
      "source": [
        "from nltk.chat.util import Chat, reflections"
      ],
      "execution_count": 1,
      "outputs": []
    },
    {
      "cell_type": "code",
      "metadata": {
        "id": "fnyHOIDlnTZL"
      },
      "source": [
        "#Pairs is a list of patterns and responses.\n",
        "pairs = [\n",
        "    [\n",
        "        r\"(.*)mi nombre es (.*)\",\n",
        "        [\"Hola %2, ¿cómo estás hoy?\",]\n",
        "    ],\n",
        "    [\n",
        "        r\"(.*)ayuda (.*) \",\n",
        "        [\"Puedo ayudarte\",]\n",
        "    ],\n",
        "     [\n",
        "        r\"(.*)tu nombre?\",\n",
        "        [\"Soy un Chatbox, pero puedes llamarme como quieras\",]\n",
        "    ],\n",
        "    [\n",
        "        r\"¿cómo estás(.*) ?\",\n",
        "        [\"Estoy muy bien\", \"¡estoy genial!\"]\n",
        "    ],\n",
        "    [\n",
        "        r\"lo siento (.*)\",\n",
        "        [\"Está bien\", \"Está bien, eso no importa\",]\n",
        "    ],\n",
        "    [\n",
        "        r\"soy (.*) (bueno|buenna|grandioso|grandiosa)\",\n",
        "        [\"Es bueno escuchar eso\",\"Muy bien, genial!\",]\n",
        "    ],\n",
        "    [\n",
        "        r\"(hi|hey|hello|hola|holla|Hola|Holita|ola|oa)(.*)\",\n",
        "        [\"Hola\", \"Hola estimadx\",]\n",
        "    ],\n",
        "    [\n",
        "        r\"¿qué (. *) quiere?\",\n",
        "        [\"Hazme una oferta que no pueda rechazar\",] \n",
        "    ],\n",
        "    [\n",
        "        r\"(.*) ubicación | ciudad?\",\n",
        "        ['Peumo, Chile',]\n",
        "    ],\n",
        "    [\n",
        "        r\"(.*)lloviendo (.*)\",\n",
        "        [\"No ha llovido en los últimos 4 días aquí en% 2\", \"En% 2 hay un 50% de probabilidad de lluvia\",]\n",
        "    ],\n",
        "    [\n",
        "        r\"cómo (. *) salud (. *)\",\n",
        "        [\"La salud es muy importante, pero soy una computadora, así que no necesito preocuparme por mi salud \",]\n",
        "    ],\n",
        "    [\n",
        "        r\"(.*)(deportes | juego | deporte)(.*)\",\n",
        "        [\"Soy un gran admirador de Fútbol\",]\n",
        "    ],\n",
        "    [\n",
        "        r\"¿quién (. *) (Jugador de fútbol | Delantero)?\",\n",
        "        [\"Lionel Messi\"]\n",
        "    ],\n",
        "    [\n",
        "        r\"salir\",\n",
        "        [\"Adiós por ahora. Nos vemos pronto :)\", \"Fue un placer hablar contigo. Hasta pronto :)\"]\n",
        "    ],\n",
        "    [\n",
        "        r\"(.*)\",\n",
        "        ['Es bueno escuchar eso']\n",
        "    ],\n",
        "]"
      ],
      "execution_count": 2,
      "outputs": []
    },
    {
      "cell_type": "code",
      "metadata": {
        "colab": {
          "base_uri": "https://localhost:8080/"
        },
        "id": "3oEytZ88no8M",
        "outputId": "058a01c9-f713-4bbf-bbd5-8c2abbb3123b"
      },
      "source": [
        "#default message at the start of chat\n",
        "print(\"Hola, me gusta charlar \\ n Por favor, escriba el idioma español en minúsculas para iniciar una conversación. Escriba salir para salir \")\n",
        "#Create Chat Bot\n",
        "chat = Chat(pairs, reflections)\n",
        "#Start conversation\n",
        "chat.converse()"
      ],
      "execution_count": null,
      "outputs": [
        {
          "output_type": "stream",
          "text": [
            "Hola, me gusta charlar \\ n Por favor, escriba el idioma español en minúsculas para iniciar una conversación. Escriba salir para salir \n",
            ">hola\n",
            "Hola\n",
            ">cómo estás?\n",
            "Es bueno escuchar eso\n",
            ">¿Cómo estás?\n",
            "¡estoy genial!\n",
            ">bien\n",
            "Es bueno escuchar eso\n",
            ">Bien\n",
            "Es bueno escuchar eso\n",
            ">salir\n",
            "Adiós por ahora. Nos vemos pronto :)\n",
            ">hola\n",
            "Hola estimadx\n",
            ">salir\n",
            "Fue un placer hablar contigo. Hasta pronto :)\n"
          ],
          "name": "stdout"
        }
      ]
    }
  ]
}