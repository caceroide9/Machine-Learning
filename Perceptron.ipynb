{
  "nbformat": 4,
  "nbformat_minor": 0,
  "metadata": {
    "colab": {
      "name": "Untitled4.ipynb",
      "provenance": []
    },
    "kernelspec": {
      "name": "python3",
      "display_name": "Python 3"
    },
    "language_info": {
      "name": "python"
    }
  },
  "cells": [
    {
      "cell_type": "code",
      "metadata": {
        "id": "Il7mc_Ee9Iv-"
      },
      "source": [
        "import numpy as np"
      ],
      "execution_count": null,
      "outputs": []
    },
    {
      "cell_type": "code",
      "metadata": {
        "id": "UqPIiF78HeoA"
      },
      "source": [
        ""
      ],
      "execution_count": null,
      "outputs": []
    },
    {
      "cell_type": "markdown",
      "metadata": {
        "id": "iIYOVcbhHfMm"
      },
      "source": [
        "# Perceptron"
      ]
    },
    {
      "cell_type": "code",
      "metadata": {
        "id": "Uj5sMdwv9xb6"
      },
      "source": [
        "\n",
        "X = np.array([[-1,-1],\n",
        "              [-1,+1],\n",
        "              [+1,-1],\n",
        "              [+1,+1]])\n",
        "Tor = np.array([[-1],\n",
        "                [+1],\n",
        "                [+1],\n",
        "                [+1]])\n",
        "Txor = np.array([[-1],\n",
        "                [+1],\n",
        "                [+1],\n",
        "                [-1]])\n",
        "mu = 0.2\n",
        "w = np.array([0,0,-3])\n",
        "\n",
        "ninput = 1\n",
        "\n",
        "\n",
        "if ninput == 1:\n",
        "  T = Tor\n",
        "else:\n",
        "  T = Txor"
      ],
      "execution_count": null,
      "outputs": []
    },
    {
      "cell_type": "code",
      "metadata": {
        "colab": {
          "base_uri": "https://localhost:8080/"
        },
        "id": "Zx7UpQj3J9vH",
        "outputId": "d5110ebe-5a3c-49b0-bfee-1119e1445444"
      },
      "source": [
        "for j in range(20):\n",
        "  for i in range(4):\n",
        "    XX        = np.array([1, X[i,0], X[i,1]])\n",
        "    resultado = np.dot(w,XX)\n",
        "    if resultado >= 0:\n",
        "      resultado = 1\n",
        "    else:\n",
        "      resultado = -1\n",
        "    \n",
        "    if resultado == T[i]:\n",
        "      # print('%d - OK'%i)\n",
        "      continue\n",
        "    else:\n",
        "      # print('%d - Bad'%i)\n",
        "      w = w + mu*T[i]*XX\n",
        "    print('Epoch:%d, Iteration:%d, w=[%.2f,%.2f,%.2f]'%(j, i,w[0],w[1],w[2])) \n"
      ],
      "execution_count": null,
      "outputs": [
        {
          "output_type": "stream",
          "text": [
            "Epoch:0, Iteration:0, w=[-0.20,0.20,-2.80]\n",
            "Epoch:0, Iteration:1, w=[0.00,0.00,-2.60]\n",
            "Epoch:0, Iteration:3, w=[0.20,0.20,-2.40]\n",
            "Epoch:1, Iteration:0, w=[0.00,0.40,-2.20]\n",
            "Epoch:1, Iteration:1, w=[0.20,0.20,-2.00]\n",
            "Epoch:1, Iteration:3, w=[0.40,0.40,-1.80]\n",
            "Epoch:2, Iteration:0, w=[0.20,0.60,-1.60]\n",
            "Epoch:2, Iteration:1, w=[0.40,0.40,-1.40]\n",
            "Epoch:2, Iteration:3, w=[0.60,0.60,-1.20]\n",
            "Epoch:3, Iteration:0, w=[0.40,0.80,-1.00]\n",
            "Epoch:3, Iteration:1, w=[0.60,0.60,-0.80]\n",
            "Epoch:4, Iteration:0, w=[0.40,0.80,-0.60]\n",
            "Epoch:4, Iteration:1, w=[0.60,0.60,-0.40]\n",
            "Epoch:5, Iteration:0, w=[0.40,0.80,-0.20]\n",
            "Epoch:5, Iteration:1, w=[0.60,0.60,0.00]\n"
          ],
          "name": "stdout"
        }
      ]
    },
    {
      "cell_type": "code",
      "metadata": {
        "colab": {
          "base_uri": "https://localhost:8080/"
        },
        "id": "yEupfc1CKFK2",
        "outputId": "55928464-912e-4266-9bd9-136a321d5380"
      },
      "source": [
        "w"
      ],
      "execution_count": null,
      "outputs": [
        {
          "output_type": "execute_result",
          "data": {
            "text/plain": [
              "array([0. , 2. , 1.8])"
            ]
          },
          "metadata": {
            "tags": []
          },
          "execution_count": 24
        }
      ]
    }
  ]
}